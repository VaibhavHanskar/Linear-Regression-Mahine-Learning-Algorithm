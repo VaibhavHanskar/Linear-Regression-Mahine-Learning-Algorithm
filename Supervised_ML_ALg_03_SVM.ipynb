{
 "cells": [
  {
   "cell_type": "markdown",
   "id": "005b9a79",
   "metadata": {},
   "source": [
    "# SVM = Support Vector Machine"
   ]
  },
  {
   "cell_type": "code",
   "execution_count": 1,
   "id": "5b339bc4",
   "metadata": {},
   "outputs": [],
   "source": [
    "import pandas as pd"
   ]
  },
  {
   "cell_type": "code",
   "execution_count": 2,
   "id": "799cba0c",
   "metadata": {},
   "outputs": [],
   "source": [
    "import numpy as np"
   ]
  },
  {
   "cell_type": "code",
   "execution_count": 3,
   "id": "b3e86da7",
   "metadata": {},
   "outputs": [],
   "source": [
    "from pandas import Series,DataFrame"
   ]
  },
  {
   "cell_type": "code",
   "execution_count": 4,
   "id": "0d292159",
   "metadata": {},
   "outputs": [],
   "source": [
    "social = pd.read_csv('Social_Network_Ads.csv')"
   ]
  },
  {
   "cell_type": "code",
   "execution_count": 5,
   "id": "c45f318a",
   "metadata": {},
   "outputs": [
    {
     "data": {
      "text/html": [
       "<div>\n",
       "<style scoped>\n",
       "    .dataframe tbody tr th:only-of-type {\n",
       "        vertical-align: middle;\n",
       "    }\n",
       "\n",
       "    .dataframe tbody tr th {\n",
       "        vertical-align: top;\n",
       "    }\n",
       "\n",
       "    .dataframe thead th {\n",
       "        text-align: right;\n",
       "    }\n",
       "</style>\n",
       "<table border=\"1\" class=\"dataframe\">\n",
       "  <thead>\n",
       "    <tr style=\"text-align: right;\">\n",
       "      <th></th>\n",
       "      <th>User ID</th>\n",
       "      <th>Gender</th>\n",
       "      <th>Age</th>\n",
       "      <th>EstimatedSalary</th>\n",
       "      <th>Purchased</th>\n",
       "    </tr>\n",
       "  </thead>\n",
       "  <tbody>\n",
       "    <tr>\n",
       "      <th>0</th>\n",
       "      <td>15624510</td>\n",
       "      <td>Male</td>\n",
       "      <td>19</td>\n",
       "      <td>19000</td>\n",
       "      <td>0</td>\n",
       "    </tr>\n",
       "    <tr>\n",
       "      <th>1</th>\n",
       "      <td>15810944</td>\n",
       "      <td>Male</td>\n",
       "      <td>35</td>\n",
       "      <td>20000</td>\n",
       "      <td>0</td>\n",
       "    </tr>\n",
       "    <tr>\n",
       "      <th>2</th>\n",
       "      <td>15668575</td>\n",
       "      <td>Female</td>\n",
       "      <td>26</td>\n",
       "      <td>43000</td>\n",
       "      <td>0</td>\n",
       "    </tr>\n",
       "    <tr>\n",
       "      <th>3</th>\n",
       "      <td>15603246</td>\n",
       "      <td>Female</td>\n",
       "      <td>27</td>\n",
       "      <td>57000</td>\n",
       "      <td>0</td>\n",
       "    </tr>\n",
       "    <tr>\n",
       "      <th>4</th>\n",
       "      <td>15804002</td>\n",
       "      <td>Male</td>\n",
       "      <td>19</td>\n",
       "      <td>76000</td>\n",
       "      <td>0</td>\n",
       "    </tr>\n",
       "  </tbody>\n",
       "</table>\n",
       "</div>"
      ],
      "text/plain": [
       "    User ID  Gender  Age  EstimatedSalary  Purchased\n",
       "0  15624510    Male   19            19000          0\n",
       "1  15810944    Male   35            20000          0\n",
       "2  15668575  Female   26            43000          0\n",
       "3  15603246  Female   27            57000          0\n",
       "4  15804002    Male   19            76000          0"
      ]
     },
     "execution_count": 5,
     "metadata": {},
     "output_type": "execute_result"
    }
   ],
   "source": [
    "social.head()"
   ]
  },
  {
   "cell_type": "code",
   "execution_count": 6,
   "id": "2191d3e8",
   "metadata": {},
   "outputs": [],
   "source": [
    "x = social[['Age','EstimatedSalary']].values   # Independent values"
   ]
  },
  {
   "cell_type": "code",
   "execution_count": 7,
   "id": "235fdadb",
   "metadata": {},
   "outputs": [],
   "source": [
    "y = social['Purchased'].values     # Dependent values"
   ]
  },
  {
   "cell_type": "code",
   "execution_count": 8,
   "id": "c5c4095b",
   "metadata": {},
   "outputs": [],
   "source": [
    "from sklearn.model_selection import train_test_split    # Split the data into Training and Testing"
   ]
  },
  {
   "cell_type": "code",
   "execution_count": 9,
   "id": "c46cd09d",
   "metadata": {},
   "outputs": [],
   "source": [
    "xtrain,xtest,ytrain,ytest = train_test_split(x,y,test_size = 0.25,random_state = 42)"
   ]
  },
  {
   "cell_type": "code",
   "execution_count": 10,
   "id": "25e31c9c",
   "metadata": {},
   "outputs": [
    {
     "data": {
      "text/plain": [
       "array([[    57, 122000],\n",
       "       [    39,  71000],\n",
       "       [    47,  25000],\n",
       "       [    24,  19000],\n",
       "       [    36,  50000],\n",
       "       [    32, 150000],\n",
       "       [    48,  29000],\n",
       "       [    30, 107000],\n",
       "       [    60,  34000],\n",
       "       [    38,  61000],\n",
       "       [    33,  31000],\n",
       "       [    39,  71000],\n",
       "       [    55,  39000],\n",
       "       [    49,  39000],\n",
       "       [    43, 112000],\n",
       "       [    27,  20000],\n",
       "       [    26,  17000],\n",
       "       [    37,  93000],\n",
       "       [    42,  54000],\n",
       "       [    35,  61000],\n",
       "       [    29,  75000],\n",
       "       [    38,  80000],\n",
       "       [    45,  26000],\n",
       "       [    54, 108000],\n",
       "       [    46,  23000],\n",
       "       [    23,  28000],\n",
       "       [    37,  75000],\n",
       "       [    42,  65000],\n",
       "       [    35,  71000],\n",
       "       [    51, 146000],\n",
       "       [    39,  96000],\n",
       "       [    24,  89000],\n",
       "       [    58,  95000],\n",
       "       [    25,  22000],\n",
       "       [    41,  59000],\n",
       "       [    28,  89000],\n",
       "       [    42,  80000],\n",
       "       [    42, 108000],\n",
       "       [    46,  96000],\n",
       "       [    47, 113000],\n",
       "       [    33,  28000],\n",
       "       [    19,  25000],\n",
       "       [    49,  89000],\n",
       "       [    31,  15000],\n",
       "       [    30,  79000],\n",
       "       [    48, 141000],\n",
       "       [    32, 117000],\n",
       "       [    37,  71000],\n",
       "       [    18,  86000],\n",
       "       [    42,  79000],\n",
       "       [    27,  84000],\n",
       "       [    40,  65000],\n",
       "       [    57,  74000],\n",
       "       [    26,  15000],\n",
       "       [    26,  80000],\n",
       "       [    29,  43000],\n",
       "       [    33, 149000],\n",
       "       [    39,  42000],\n",
       "       [    54, 104000],\n",
       "       [    36,  33000],\n",
       "       [    46,  32000],\n",
       "       [    40, 142000],\n",
       "       [    37,  62000],\n",
       "       [    29, 148000],\n",
       "       [    37,  57000],\n",
       "       [    35,  50000],\n",
       "       [    42,  53000],\n",
       "       [    35,  38000],\n",
       "       [    41,  30000],\n",
       "       [    40,  72000],\n",
       "       [    26,  15000],\n",
       "       [    31,  68000],\n",
       "       [    35,  53000],\n",
       "       [    35,  25000],\n",
       "       [    30,  89000],\n",
       "       [    41,  72000],\n",
       "       [    28, 123000],\n",
       "       [    46,  82000],\n",
       "       [    22,  63000],\n",
       "       [    45,  22000],\n",
       "       [    30,  49000],\n",
       "       [    34,  25000],\n",
       "       [    40,  75000],\n",
       "       [    32, 117000],\n",
       "       [    23,  82000],\n",
       "       [    26,  80000],\n",
       "       [    48, 131000],\n",
       "       [    59, 143000],\n",
       "       [    35,  55000],\n",
       "       [    34,  43000],\n",
       "       [    39,  61000],\n",
       "       [    27,  96000],\n",
       "       [    60,  83000],\n",
       "       [    24,  55000],\n",
       "       [    58, 144000],\n",
       "       [    53, 104000],\n",
       "       [    35,  79000],\n",
       "       [    36,  99000],\n",
       "       [    57,  60000],\n",
       "       [    37, 137000],\n",
       "       [    33,  43000],\n",
       "       [    41,  71000],\n",
       "       [    52,  21000],\n",
       "       [    52, 150000],\n",
       "       [    37,  70000],\n",
       "       [    26,  84000],\n",
       "       [    26,  72000],\n",
       "       [    26,  52000],\n",
       "       [    41,  60000],\n",
       "       [    31,  66000],\n",
       "       [    37, 144000],\n",
       "       [    38,  61000],\n",
       "       [    31,  34000],\n",
       "       [    42,  75000],\n",
       "       [    46, 117000],\n",
       "       [    36,  52000],\n",
       "       [    38,  71000],\n",
       "       [    49,  88000],\n",
       "       [    57,  33000],\n",
       "       [    48, 138000],\n",
       "       [    47,  50000],\n",
       "       [    33,  69000],\n",
       "       [    37, 146000],\n",
       "       [    20,  82000],\n",
       "       [    40,  47000],\n",
       "       [    35,  22000],\n",
       "       [    20,  36000],\n",
       "       [    45,  45000],\n",
       "       [    26,  43000],\n",
       "       [    58, 101000],\n",
       "       [    40,  57000],\n",
       "       [    38, 112000],\n",
       "       [    37,  80000],\n",
       "       [    49,  28000],\n",
       "       [    36,  75000],\n",
       "       [    41,  72000],\n",
       "       [    35,  60000],\n",
       "       [    43, 129000],\n",
       "       [    41,  87000],\n",
       "       [    38, 113000],\n",
       "       [    58,  23000],\n",
       "       [    26,  32000],\n",
       "       [    32,  18000],\n",
       "       [    41,  52000],\n",
       "       [    31,  18000],\n",
       "       [    35,  88000],\n",
       "       [    48,  35000],\n",
       "       [    27,  89000],\n",
       "       [    35,  97000],\n",
       "       [    42,  73000],\n",
       "       [    21,  68000],\n",
       "       [    41,  72000],\n",
       "       [    33,  60000],\n",
       "       [    39, 134000],\n",
       "       [    28,  84000],\n",
       "       [    46,  88000],\n",
       "       [    24,  58000],\n",
       "       [    31, 118000],\n",
       "       [    50,  88000],\n",
       "       [    20,  82000],\n",
       "       [    32, 135000],\n",
       "       [    20,  86000],\n",
       "       [    35,  27000],\n",
       "       [    29,  43000],\n",
       "       [    21,  88000],\n",
       "       [    35,  59000],\n",
       "       [    45,  32000],\n",
       "       [    60,  42000],\n",
       "       [    35,  91000],\n",
       "       [    35,  44000],\n",
       "       [    18,  44000],\n",
       "       [    42, 149000],\n",
       "       [    45,  79000],\n",
       "       [    40,  60000],\n",
       "       [    24,  23000],\n",
       "       [    33,  51000],\n",
       "       [    42,  70000],\n",
       "       [    55, 130000],\n",
       "       [    50,  44000],\n",
       "       [    48, 119000],\n",
       "       [    19,  76000],\n",
       "       [    41,  72000],\n",
       "       [    40,  71000],\n",
       "       [    27,  88000],\n",
       "       [    36, 126000],\n",
       "       [    35,  75000],\n",
       "       [    35,  58000],\n",
       "       [    34, 115000],\n",
       "       [    35,  73000],\n",
       "       [    60, 108000],\n",
       "       [    25,  87000],\n",
       "       [    27,  54000],\n",
       "       [    21,  16000],\n",
       "       [    37,  74000],\n",
       "       [    35,  39000],\n",
       "       [    54,  70000],\n",
       "       [    47,  30000],\n",
       "       [    38,  50000],\n",
       "       [    35, 147000],\n",
       "       [    35,  77000],\n",
       "       [    41,  79000],\n",
       "       [    37,  33000],\n",
       "       [    60,  46000],\n",
       "       [    28,  59000],\n",
       "       [    23,  66000],\n",
       "       [    23,  63000],\n",
       "       [    30,  17000],\n",
       "       [    25,  33000],\n",
       "       [    59,  83000],\n",
       "       [    58,  38000],\n",
       "       [    18,  82000],\n",
       "       [    46,  59000],\n",
       "       [    27,  17000],\n",
       "       [    58,  47000],\n",
       "       [    48,  30000],\n",
       "       [    49,  65000],\n",
       "       [    50,  36000],\n",
       "       [    53,  72000],\n",
       "       [    40,  57000],\n",
       "       [    52, 114000],\n",
       "       [    59,  42000],\n",
       "       [    36,  63000],\n",
       "       [    42, 104000],\n",
       "       [    37,  52000],\n",
       "       [    48,  33000],\n",
       "       [    59,  29000],\n",
       "       [    37,  79000],\n",
       "       [    40,  61000],\n",
       "       [    49,  74000],\n",
       "       [    25,  90000],\n",
       "       [    30,  15000],\n",
       "       [    40,  78000],\n",
       "       [    24,  84000],\n",
       "       [    38,  50000],\n",
       "       [    45, 131000],\n",
       "       [    21,  72000],\n",
       "       [    35,  23000],\n",
       "       [    35,  20000],\n",
       "       [    31,  89000],\n",
       "       [    30,  80000],\n",
       "       [    47,  47000],\n",
       "       [    27,  90000],\n",
       "       [    35,  72000],\n",
       "       [    30, 116000],\n",
       "       [    39, 122000],\n",
       "       [    29,  83000],\n",
       "       [    41,  63000],\n",
       "       [    48,  90000],\n",
       "       [    38,  59000],\n",
       "       [    32,  18000],\n",
       "       [    39,  75000],\n",
       "       [    26,  81000],\n",
       "       [    39, 106000],\n",
       "       [    22,  55000],\n",
       "       [    36, 118000],\n",
       "       [    60,  42000],\n",
       "       [    28,  55000],\n",
       "       [    51, 134000],\n",
       "       [    49,  28000],\n",
       "       [    36,  60000],\n",
       "       [    56, 104000],\n",
       "       [    27,  58000],\n",
       "       [    24,  32000],\n",
       "       [    34,  72000],\n",
       "       [    28,  32000],\n",
       "       [    50,  20000],\n",
       "       [    33,  41000],\n",
       "       [    29,  47000],\n",
       "       [    22,  18000],\n",
       "       [    30, 135000],\n",
       "       [    47, 105000],\n",
       "       [    46,  79000],\n",
       "       [    48, 134000],\n",
       "       [    47,  49000],\n",
       "       [    49, 141000],\n",
       "       [    32, 100000],\n",
       "       [    38,  71000],\n",
       "       [    19,  26000],\n",
       "       [    37,  77000],\n",
       "       [    47,  51000],\n",
       "       [    40,  57000],\n",
       "       [    36, 125000],\n",
       "       [    20,  74000],\n",
       "       [    31,  58000],\n",
       "       [    41,  45000],\n",
       "       [    42,  54000],\n",
       "       [    28,  37000],\n",
       "       [    39,  73000],\n",
       "       [    28,  85000],\n",
       "       [    38,  51000],\n",
       "       [    47,  43000],\n",
       "       [    37,  72000],\n",
       "       [    49,  36000],\n",
       "       [    45,  22000],\n",
       "       [    35,  72000],\n",
       "       [    24,  27000],\n",
       "       [    26,  35000],\n",
       "       [    43, 133000],\n",
       "       [    39,  77000],\n",
       "       [    32,  86000]], dtype=int64)"
      ]
     },
     "execution_count": 10,
     "metadata": {},
     "output_type": "execute_result"
    }
   ],
   "source": [
    "xtrain"
   ]
  },
  {
   "cell_type": "code",
   "execution_count": 11,
   "id": "eb84b229",
   "metadata": {},
   "outputs": [
    {
     "data": {
      "text/plain": [
       "array([1, 0, 1, 0, 0, 1, 1, 1, 1, 0, 0, 0, 1, 1, 1, 0, 0, 1, 0, 0, 0, 0,\n",
       "       1, 1, 1, 0, 0, 0, 0, 1, 1, 0, 1, 0, 0, 0, 1, 1, 0, 1, 0, 0, 1, 0,\n",
       "       0, 0, 0, 0, 0, 0, 0, 0, 1, 0, 0, 0, 1, 0, 1, 0, 1, 1, 0, 1, 0, 0,\n",
       "       0, 0, 0, 0, 0, 0, 0, 0, 0, 0, 1, 0, 0, 1, 0, 0, 0, 1, 0, 0, 1, 1,\n",
       "       0, 0, 0, 1, 1, 0, 1, 1, 0, 1, 1, 1, 0, 0, 1, 1, 1, 0, 0, 0, 0, 0,\n",
       "       1, 0, 0, 0, 1, 0, 0, 1, 1, 1, 1, 0, 1, 0, 0, 0, 0, 1, 0, 1, 0, 0,\n",
       "       0, 1, 0, 0, 0, 1, 1, 1, 1, 0, 0, 0, 0, 0, 1, 0, 1, 1, 0, 0, 0, 1,\n",
       "       0, 1, 0, 1, 1, 0, 1, 0, 0, 0, 0, 0, 1, 1, 1, 0, 0, 1, 0, 0, 0, 0,\n",
       "       0, 1, 0, 1, 0, 0, 1, 0, 1, 0, 0, 0, 0, 1, 0, 0, 0, 0, 0, 1, 1, 0,\n",
       "       1, 0, 0, 0, 1, 0, 0, 0, 0, 0, 0, 1, 0, 0, 0, 1, 1, 0, 1, 1, 0, 0,\n",
       "       0, 0, 1, 0, 1, 1, 1, 0, 0, 0, 0, 0, 0, 0, 1, 0, 0, 0, 0, 0, 0, 0,\n",
       "       0, 0, 1, 0, 0, 1, 0, 0, 1, 0, 1, 0, 1, 1, 0, 0, 1, 0, 1, 0, 0, 0,\n",
       "       0, 1, 0, 0, 0, 1, 1, 1, 1, 1, 1, 1, 0, 0, 0, 1, 0, 1, 0, 0, 0, 0,\n",
       "       0, 0, 0, 0, 0, 0, 1, 1, 0, 0, 0, 0, 0, 0], dtype=int64)"
      ]
     },
     "execution_count": 11,
     "metadata": {},
     "output_type": "execute_result"
    }
   ],
   "source": [
    "ytrain"
   ]
  },
  {
   "cell_type": "code",
   "execution_count": 12,
   "id": "98638378",
   "metadata": {},
   "outputs": [],
   "source": [
    "xtrain = xtrain.astype(float)    # Converting bigger values into Small by converting them into float\n",
    "xtest = xtest.astype(float)"
   ]
  },
  {
   "cell_type": "code",
   "execution_count": 13,
   "id": "50943ee9",
   "metadata": {},
   "outputs": [],
   "source": [
    "from sklearn.preprocessing import StandardScaler # REDUCE PROCESSING TIME It takes floating value"
   ]
  },
  {
   "cell_type": "code",
   "execution_count": 14,
   "id": "984a4ac1",
   "metadata": {},
   "outputs": [],
   "source": [
    "sc = StandardScaler()"
   ]
  },
  {
   "cell_type": "code",
   "execution_count": 15,
   "id": "75d1115b",
   "metadata": {},
   "outputs": [],
   "source": [
    "xtrain = sc.fit_transform(xtrain)    # Converts float value between 0 - 1"
   ]
  },
  {
   "cell_type": "code",
   "execution_count": 16,
   "id": "8a3ed65c",
   "metadata": {},
   "outputs": [],
   "source": [
    "xtest = sc.transform(xtest)     # Converts float value between 0 - 1"
   ]
  },
  {
   "cell_type": "code",
   "execution_count": 17,
   "id": "69f60a62",
   "metadata": {},
   "outputs": [],
   "source": [
    "from sklearn.svm import SVC"
   ]
  },
  {
   "cell_type": "code",
   "execution_count": 18,
   "id": "1d2ce36c",
   "metadata": {},
   "outputs": [],
   "source": [
    "classifier = SVC(kernel = 'rbf',random_state = 0)"
   ]
  },
  {
   "cell_type": "code",
   "execution_count": 19,
   "id": "cea0e8db",
   "metadata": {},
   "outputs": [
    {
     "data": {
      "text/plain": [
       "SVC(random_state=0)"
      ]
     },
     "execution_count": 19,
     "metadata": {},
     "output_type": "execute_result"
    }
   ],
   "source": [
    "classifier.fit(xtrain,ytrain)      # Training of Data"
   ]
  },
  {
   "cell_type": "code",
   "execution_count": 20,
   "id": "7b42d874",
   "metadata": {},
   "outputs": [],
   "source": [
    "y_pred = classifier.predict(xtest)    # To predict the results"
   ]
  },
  {
   "cell_type": "code",
   "execution_count": 21,
   "id": "7c9b9775",
   "metadata": {},
   "outputs": [
    {
     "data": {
      "text/plain": [
       "array([1, 1, 0, 1, 0, 0, 1, 0, 0, 0, 0, 1, 0, 0, 0, 1, 1, 1, 0, 1, 0, 0,\n",
       "       1, 1, 0, 1, 0, 0, 1, 0, 1, 0, 1, 0, 1, 0, 0, 0, 0, 0, 1, 0, 0, 1,\n",
       "       0, 1, 0, 0, 1, 0, 0, 1, 0, 0, 0, 0, 1, 1, 0, 0, 0, 0, 1, 0, 0, 1,\n",
       "       1, 1, 0, 1, 1, 0, 0, 0, 1, 0, 1, 1, 0, 0, 0, 1, 1, 1, 1, 1, 0, 1,\n",
       "       0, 0, 1, 0, 0, 0, 0, 0, 1, 0, 1, 1], dtype=int64)"
      ]
     },
     "execution_count": 21,
     "metadata": {},
     "output_type": "execute_result"
    }
   ],
   "source": [
    "y_pred"
   ]
  },
  {
   "cell_type": "code",
   "execution_count": 22,
   "id": "fbda1caf",
   "metadata": {},
   "outputs": [],
   "source": [
    "from sklearn.metrics import accuracy_score"
   ]
  },
  {
   "cell_type": "code",
   "execution_count": 23,
   "id": "15fde7ca",
   "metadata": {},
   "outputs": [],
   "source": [
    "acc = accuracy_score(ytest,y_pred)"
   ]
  },
  {
   "cell_type": "code",
   "execution_count": 24,
   "id": "ad51f5cd",
   "metadata": {},
   "outputs": [
    {
     "data": {
      "text/plain": [
       "0.93"
      ]
     },
     "execution_count": 24,
     "metadata": {},
     "output_type": "execute_result"
    }
   ],
   "source": [
    "acc     # acuuracy of predicting correct value"
   ]
  },
  {
   "cell_type": "code",
   "execution_count": 25,
   "id": "260eaeb5",
   "metadata": {},
   "outputs": [],
   "source": [
    "from sklearn.metrics import confusion_matrix"
   ]
  },
  {
   "cell_type": "code",
   "execution_count": 26,
   "id": "024ddda2",
   "metadata": {},
   "outputs": [],
   "source": [
    "cm = confusion_matrix(ytest,y_pred)    # It gives us number of correct and wrong values"
   ]
  },
  {
   "cell_type": "code",
   "execution_count": 27,
   "id": "548348f3",
   "metadata": {},
   "outputs": [
    {
     "data": {
      "text/plain": [
       "array([[57,  6],\n",
       "       [ 1, 36]], dtype=int64)"
      ]
     },
     "execution_count": 27,
     "metadata": {},
     "output_type": "execute_result"
    }
   ],
   "source": [
    "cm   "
   ]
  },
  {
   "cell_type": "code",
   "execution_count": 28,
   "id": "47ab29b0",
   "metadata": {},
   "outputs": [],
   "source": [
    "import seaborn as sns"
   ]
  },
  {
   "cell_type": "code",
   "execution_count": 29,
   "id": "34fbbc98",
   "metadata": {},
   "outputs": [
    {
     "data": {
      "text/plain": [
       "<AxesSubplot:>"
      ]
     },
     "execution_count": 29,
     "metadata": {},
     "output_type": "execute_result"
    },
    {
     "data": {
      "image/png": "[encoded data removed]",
      "text/plain": [
       "<Figure size 432x288 with 2 Axes>"
      ]
     },
     "metadata": {
      "needs_background": "light"
     },
     "output_type": "display_data"
    }
   ],
   "source": [
    "sns.heatmap(cm,annot = True)"
   ]
  },
  {
   "cell_type": "code",
   "execution_count": 30,
   "id": "565e852f",
   "metadata": {},
   "outputs": [],
   "source": [
    "from sklearn.metrics import classification_report"
   ]
  },
  {
   "cell_type": "code",
   "execution_count": 31,
   "id": "40b6ea87",
   "metadata": {},
   "outputs": [],
   "source": [
    "cr = classification_report(ytest,y_pred)"
   ]
  },
  {
   "cell_type": "code",
   "execution_count": 32,
   "id": "564704d4",
   "metadata": {},
   "outputs": [
    {
     "name": "stdout",
     "output_type": "stream",
     "text": [
      "              precision    recall  f1-score   support\n",
      "\n",
      "           0       0.98      0.90      0.94        63\n",
      "           1       0.86      0.97      0.91        37\n",
      "\n",
      "    accuracy                           0.93       100\n",
      "   macro avg       0.92      0.94      0.93       100\n",
      "weighted avg       0.94      0.93      0.93       100\n",
      "\n"
     ]
    }
   ],
   "source": [
    "print(cr)"
   ]
  },
  {
   "cell_type": "code",
   "execution_count": null,
   "id": "9f8bdfbb",
   "metadata": {},
   "outputs": [],
   "source": []
  },
  {
   "cell_type": "code",
   "execution_count": null,
   "id": "7df6b421",
   "metadata": {},
   "outputs": [],
   "source": []
  }
 ],
 "metadata": {
  "kernelspec": {
   "display_name": "Python 3 (ipykernel)",
   "language": "python",
   "name": "python3"
  },
  "language_info": {
   "codemirror_mode": {
    "name": "ipython",
    "version": 3
   },
   "file_extension": ".py",
   "mimetype": "text/x-python",
   "name": "python",
   "nbconvert_exporter": "python",
   "pygments_lexer": "ipython3",
   "version": "3.9.7"
  }
 },
 "nbformat": 4,
 "nbformat_minor": 5
}
